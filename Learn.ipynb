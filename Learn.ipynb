{
  "nbformat": 4,
  "nbformat_minor": 0,
  "metadata": {
    "colab": {
      "name": "Learn",
      "provenance": [],
      "collapsed_sections": [],
      "authorship_tag": "ABX9TyO9h4P5jzH6SZdiP33zgqrM",
      "include_colab_link": true
    },
    "kernelspec": {
      "name": "python3",
      "display_name": "Python 3"
    },
    "language_info": {
      "name": "python"
    }
  },
  "cells": [
    {
      "cell_type": "markdown",
      "metadata": {
        "id": "view-in-github",
        "colab_type": "text"
      },
      "source": [
        "<a href=\"https://colab.research.google.com/github/aida-suryadi/CNN_DL---Image-Classification-/blob/main/Learn.ipynb\" target=\"_parent\"><img src=\"https://colab.research.google.com/assets/colab-badge.svg\" alt=\"Open In Colab\"/></a>"
      ]
    },
    {
      "cell_type": "code",
      "metadata": {
        "id": "Esegk4KVrEWb"
      },
      "source": [
        "#Description : This program classified images"
      ],
      "execution_count": null,
      "outputs": []
    },
    {
      "cell_type": "code",
      "metadata": {
        "id": "oKUjcBKqrSiy"
      },
      "source": [
        "#import lib needed\n",
        "import tensorflow as tf\n",
        "from tensorflow import keras\n",
        "from keras.models import Sequential\n",
        "from keras.layers import Dense, Flatten, Conv2D, MaxPooling2D, Dropout\n",
        "from tensorflow.keras import layers\n",
        "from tensorflow.keras.utils import to_categorical\n",
        "import numpy as np\n",
        "import matplotlib.pyplot as plt\n",
        "plt.style.use('fivethirtyeight')"
      ],
      "execution_count": null,
      "outputs": []
    },
    {
      "cell_type": "code",
      "metadata": {
        "colab": {
          "base_uri": "https://localhost:8080/"
        },
        "id": "wH2oElCttUEd",
        "outputId": "1b58b025-665a-4a80-e211-7a20d7a39dc9"
      },
      "source": [
        "#load Data\n",
        "from keras.datasets import cifar10\n",
        "(x_train, y_train), (x_test,y_test) = cifar10.load_data()"
      ],
      "execution_count": null,
      "outputs": [
        {
          "output_type": "stream",
          "name": "stdout",
          "text": [
            "Downloading data from https://www.cs.toronto.edu/~kriz/cifar-10-python.tar.gz\n",
            "170500096/170498071 [==============================] - 4s 0us/step\n",
            "170508288/170498071 [==============================] - 4s 0us/step\n"
          ]
        }
      ]
    },
    {
      "cell_type": "code",
      "metadata": {
        "colab": {
          "base_uri": "https://localhost:8080/"
        },
        "id": "EsTqkkjRt3_J",
        "outputId": "ea99a926-d471-4c63-9977-c31996b64b85"
      },
      "source": [
        "# Look at the data type\n",
        "print(type(x_train))\n",
        "print(type(y_train))\n",
        "print(type(x_test))\n",
        "print(type(y_test))"
      ],
      "execution_count": null,
      "outputs": [
        {
          "output_type": "stream",
          "name": "stdout",
          "text": [
            "<class 'numpy.ndarray'>\n",
            "<class 'numpy.ndarray'>\n",
            "<class 'numpy.ndarray'>\n",
            "<class 'numpy.ndarray'>\n"
          ]
        }
      ]
    },
    {
      "cell_type": "code",
      "metadata": {
        "colab": {
          "base_uri": "https://localhost:8080/"
        },
        "id": "uhtruWTGuSC9",
        "outputId": "403d8f26-73bf-4eb6-8737-a9c9a357d2be"
      },
      "source": [
        "# Shape Arrays \n",
        "print('x_train shape: ', x_train.shape) #4D\n",
        "print('x_train shape: ', y_train.shape) #2D\n",
        "print('x_train shape: ', x_test.shape)\n",
        "print('x_train shape: ', y_test.shape)"
      ],
      "execution_count": null,
      "outputs": [
        {
          "output_type": "stream",
          "name": "stdout",
          "text": [
            "x_train shape:  (50000, 32, 32, 3)\n",
            "x_train shape:  (50000, 1)\n",
            "x_train shape:  (10000, 32, 32, 3)\n",
            "x_train shape:  (10000, 1)\n"
          ]
        }
      ]
    },
    {
      "cell_type": "code",
      "metadata": {
        "colab": {
          "base_uri": "https://localhost:8080/"
        },
        "id": "wMX3qtmeu9BG",
        "outputId": "603c127d-862b-4c74-977b-d84214e52059"
      },
      "source": [
        "# look at first image as an array\n",
        "index = 10 #change here to see image\n",
        "x_train[index]"
      ],
      "execution_count": null,
      "outputs": [
        {
          "output_type": "execute_result",
          "data": {
            "text/plain": [
              "array([[[53, 65, 53],\n",
              "        [54, 63, 52],\n",
              "        [56, 60, 50],\n",
              "        ...,\n",
              "        [47, 51, 50],\n",
              "        [41, 45, 44],\n",
              "        [24, 28, 27]],\n",
              "\n",
              "       [[46, 59, 41],\n",
              "        [53, 62, 45],\n",
              "        [54, 59, 44],\n",
              "        ...,\n",
              "        [42, 46, 45],\n",
              "        [39, 43, 42],\n",
              "        [28, 32, 31]],\n",
              "\n",
              "       [[45, 59, 38],\n",
              "        [50, 60, 41],\n",
              "        [46, 52, 34],\n",
              "        ...,\n",
              "        [38, 42, 41],\n",
              "        [36, 40, 39],\n",
              "        [29, 33, 32]],\n",
              "\n",
              "       ...,\n",
              "\n",
              "       [[71, 83, 66],\n",
              "        [74, 83, 66],\n",
              "        [80, 85, 67],\n",
              "        ...,\n",
              "        [51, 54, 33],\n",
              "        [46, 49, 34],\n",
              "        [49, 50, 41]],\n",
              "\n",
              "       [[75, 82, 67],\n",
              "        [79, 85, 69],\n",
              "        [81, 85, 67],\n",
              "        ...,\n",
              "        [61, 65, 41],\n",
              "        [64, 67, 48],\n",
              "        [48, 50, 41]],\n",
              "\n",
              "       [[85, 83, 71],\n",
              "        [85, 84, 71],\n",
              "        [86, 86, 70],\n",
              "        ...,\n",
              "        [61, 65, 39],\n",
              "        [64, 67, 46],\n",
              "        [49, 50, 41]]], dtype=uint8)"
            ]
          },
          "metadata": {},
          "execution_count": 5
        }
      ]
    },
    {
      "cell_type": "code",
      "metadata": {
        "colab": {
          "base_uri": "https://localhost:8080/",
          "height": 284
        },
        "id": "lSdhN4LvvrtV",
        "outputId": "83505092-8a51-4c5d-9a00-4747f831bb7f"
      },
      "source": [
        "# look image as pic\n",
        "img = plt.imshow(x_train[index]) #frog? "
      ],
      "execution_count": null,
      "outputs": [
        {
          "output_type": "display_data",
          "data": {
            "image/png": "[encoded data removed]",
            "text/plain": [
              "<Figure size 432x288 with 1 Axes>"
            ]
          },
          "metadata": {}
        }
      ]
    },
    {
      "cell_type": "code",
      "metadata": {
        "colab": {
          "base_uri": "https://localhost:8080/"
        },
        "id": "fs7nBvJcwJj3",
        "outputId": "24ae71b7-68e1-40e3-8942-dda9d5eacba9"
      },
      "source": [
        "#Get the image label\n",
        "print( 'The image label is: ', y_train[index]) # 6 classified frog"
      ],
      "execution_count": null,
      "outputs": [
        {
          "output_type": "stream",
          "name": "stdout",
          "text": [
            "The image label is:  [4]\n"
          ]
        }
      ]
    },
    {
      "cell_type": "code",
      "metadata": {
        "colab": {
          "base_uri": "https://localhost:8080/"
        },
        "id": "8Ing_cnLwd7o",
        "outputId": "a19a3b12-1e55-4b0b-b734-a58662f176e7"
      },
      "source": [
        "#Get the image classification\n",
        "classification = ['airplane', 'automobile', 'bird', 'cat', 'deer', 'dog', 'frog', 'horse', 'ship', 'truck']\n",
        "#print the image class\n",
        "print('The image class is:', classification[y_train[index][0]])"
      ],
      "execution_count": null,
      "outputs": [
        {
          "output_type": "stream",
          "name": "stdout",
          "text": [
            "The image class is: deer\n"
          ]
        }
      ]
    },
    {
      "cell_type": "code",
      "metadata": {
        "id": "YbNGT6ClyLrp"
      },
      "source": [
        "#convert the labels into set of 10 numb. to input into neural network\n",
        "y_train_one_hot = to_categorical(y_train)\n",
        "y_test_one_hot = to_categorical(y_test)"
      ],
      "execution_count": null,
      "outputs": []
    },
    {
      "cell_type": "code",
      "metadata": {
        "colab": {
          "base_uri": "https://localhost:8080/"
        },
        "id": "wpZp_nNOyoP_",
        "outputId": "af75dccc-1183-435e-8802-3610816cc9c6"
      },
      "source": [
        "#print new labels\n",
        "print(y_train_one_hot) "
      ],
      "execution_count": null,
      "outputs": [
        {
          "output_type": "stream",
          "name": "stdout",
          "text": [
            "[[0. 0. 0. ... 0. 0. 0.]\n",
            " [0. 0. 0. ... 0. 0. 1.]\n",
            " [0. 0. 0. ... 0. 0. 1.]\n",
            " ...\n",
            " [0. 0. 0. ... 0. 0. 1.]\n",
            " [0. 1. 0. ... 0. 0. 0.]\n",
            " [0. 1. 0. ... 0. 0. 0.]]\n"
          ]
        }
      ]
    },
    {
      "cell_type": "code",
      "metadata": {
        "colab": {
          "base_uri": "https://localhost:8080/"
        },
        "id": "t5ts5XBYy10w",
        "outputId": "deed1eae-8cd9-4458-a271-2afd128c2b60"
      },
      "source": [
        "#print the new labels of the image/picture above\n",
        "print('The one hot label is:', y_train_one_hot[index])"
      ],
      "execution_count": null,
      "outputs": [
        {
          "output_type": "stream",
          "name": "stdout",
          "text": [
            "The one hot label is: [0. 0. 0. 0. 1. 0. 0. 0. 0. 0.]\n"
          ]
        }
      ]
    },
    {
      "cell_type": "code",
      "metadata": {
        "id": "-0m9kmCSzPNI"
      },
      "source": [
        "#Normalise the pixels to be values between 0 and 1\n",
        "x_train= x_train /255\n",
        "x_test = x_test /255"
      ],
      "execution_count": null,
      "outputs": []
    },
    {
      "cell_type": "code",
      "metadata": {
        "colab": {
          "base_uri": "https://localhost:8080/"
        },
        "id": "d5TEdpnBzjFY",
        "outputId": "1a949b19-b10b-46ac-e8d2-8dda8c435054"
      },
      "source": [
        "x_train[index]"
      ],
      "execution_count": null,
      "outputs": [
        {
          "output_type": "execute_result",
          "data": {
            "text/plain": [
              "array([[[3.19635736e-06, 3.92006091e-06, 3.19635736e-06],\n",
              "        [3.25666599e-06, 3.79944365e-06, 3.13604873e-06],\n",
              "        [3.37728325e-06, 3.61851776e-06, 3.01543147e-06],\n",
              "        ...,\n",
              "        [2.83450558e-06, 3.07574010e-06, 3.01543147e-06],\n",
              "        [2.47265381e-06, 2.71388832e-06, 2.65357969e-06],\n",
              "        [1.44740711e-06, 1.68864162e-06, 1.62833299e-06]],\n",
              "\n",
              "       [[2.77419695e-06, 3.55820914e-06, 2.47265381e-06],\n",
              "        [3.19635736e-06, 3.73913502e-06, 2.71388832e-06],\n",
              "        [3.25666599e-06, 3.55820914e-06, 2.65357969e-06],\n",
              "        ...,\n",
              "        [2.53296244e-06, 2.77419695e-06, 2.71388832e-06],\n",
              "        [2.35203655e-06, 2.59327106e-06, 2.53296244e-06],\n",
              "        [1.68864162e-06, 1.92987614e-06, 1.86956751e-06]],\n",
              "\n",
              "       [[2.71388832e-06, 3.55820914e-06, 2.29172792e-06],\n",
              "        [3.01543147e-06, 3.61851776e-06, 2.47265381e-06],\n",
              "        [2.77419695e-06, 3.13604873e-06, 2.05049340e-06],\n",
              "        ...,\n",
              "        [2.29172792e-06, 2.53296244e-06, 2.47265381e-06],\n",
              "        [2.17111066e-06, 2.41234518e-06, 2.35203655e-06],\n",
              "        [1.74895025e-06, 1.99018477e-06, 1.92987614e-06]],\n",
              "\n",
              "       ...,\n",
              "\n",
              "       [[4.28191269e-06, 5.00561624e-06, 3.98036954e-06],\n",
              "        [4.46283858e-06, 5.00561624e-06, 3.98036954e-06],\n",
              "        [4.82469035e-06, 5.12623350e-06, 4.04067817e-06],\n",
              "        ...,\n",
              "        [3.07574010e-06, 3.25666599e-06, 1.99018477e-06],\n",
              "        [2.77419695e-06, 2.95512284e-06, 2.05049340e-06],\n",
              "        [2.95512284e-06, 3.01543147e-06, 2.47265381e-06]],\n",
              "\n",
              "       [[4.52314721e-06, 4.94530761e-06, 4.04067817e-06],\n",
              "        [4.76438172e-06, 5.12623350e-06, 4.16129543e-06],\n",
              "        [4.88499898e-06, 5.12623350e-06, 4.04067817e-06],\n",
              "        ...,\n",
              "        [3.67882639e-06, 3.92006091e-06, 2.47265381e-06],\n",
              "        [3.85975228e-06, 4.04067817e-06, 2.89481421e-06],\n",
              "        [2.89481421e-06, 3.01543147e-06, 2.47265381e-06]],\n",
              "\n",
              "       [[5.12623350e-06, 5.00561624e-06, 4.28191269e-06],\n",
              "        [5.12623350e-06, 5.06592487e-06, 4.28191269e-06],\n",
              "        [5.18654213e-06, 5.18654213e-06, 4.22160406e-06],\n",
              "        ...,\n",
              "        [3.67882639e-06, 3.92006091e-06, 2.35203655e-06],\n",
              "        [3.85975228e-06, 4.04067817e-06, 2.77419695e-06],\n",
              "        [2.95512284e-06, 3.01543147e-06, 2.47265381e-06]]])"
            ]
          },
          "metadata": {},
          "execution_count": 35
        }
      ]
    },
    {
      "cell_type": "code",
      "metadata": {
        "id": "tJmA2LkyzvWE"
      },
      "source": [
        "#create models architecture\n",
        "model= Sequential()\n",
        "\n",
        "#add the first layer\n",
        "#model.add(Conv2D,(32,(5,5), activation=\"relu\", input_shape=(32,32,3)))\n",
        "model.add(Conv2D(32, (5, 5), activation='relu', input_shape = (32, 32, 3)))\n",
        "#add pooling layer\n",
        "model.add(MaxPooling2D(pool_size = (2,2)))\n",
        "#add another convolution layer\n",
        "model.add(Conv2D(32, (5, 5), activation='relu'))\n",
        "#model.add(Activation(\"relu\"))\n",
        "#add another pooling layer\n",
        "model.add(MaxPooling2D(pool_size = (2,2)))\n",
        "\n",
        "#add a flattening error\n",
        "model.add(Flatten())\n",
        "\n",
        "#add a layer with 1000 neurons\n",
        "model.add(Dense(1000, activation='relu'))\n",
        "#model.add(activation(\"relu\"))\n",
        "#add a drop out layer\n",
        "model.add(Dropout(0.5))\n",
        "#model.add(activation(\"relu\"))\n",
        "#add a layer with 500 neurons\n",
        "model.add(Dense(500, activation='relu'))\n",
        "#model.add(Activation(\"relu\"))\n",
        "#add a drop out layer\n",
        "model.add(Dropout(0.5))\n",
        "#model.add(Activation(\"relu\"))\n",
        "#add a layer with 250 neurons\n",
        "model.add(Dense(250, activation='relu'))\n",
        "#model.add(Activation(\"relu\"))\n",
        "#add a drop out layer\n",
        "model.add(Dropout(0.5))\n",
        "\n",
        "#add a layer with 10 neurons\n",
        "model.add(Dense(10, activation='softmax'))\n",
        "\n"
      ],
      "execution_count": null,
      "outputs": []
    },
    {
      "cell_type": "code",
      "metadata": {
        "id": "lCPuh7vk6wDi"
      },
      "source": [
        "#compile model\n",
        "model.compile(loss='categorical_crossentropy', optimizer = 'adam',\n",
        "              metrics = ['accuracy'])"
      ],
      "execution_count": null,
      "outputs": []
    },
    {
      "cell_type": "code",
      "metadata": {
        "colab": {
          "base_uri": "https://localhost:8080/"
        },
        "id": "2SJh99kg7EYE",
        "outputId": "0b7736e2-4f01-4d05-ea47-8f68ef3a89da"
      },
      "source": [
        "#Train model\n",
        "hist = model.fit(x_train, y_train_one_hot,\n",
        "                 batch_size = 10,\n",
        "                 epochs = 10, \n",
        "                 validation_split= 0.2)\n",
        "               "
      ],
      "execution_count": null,
      "outputs": [
        {
          "output_type": "stream",
          "name": "stdout",
          "text": [
            "Epoch 1/10\n",
            "4000/4000 [==============================] - 120s 30ms/step - loss: 2.3032 - accuracy: 0.1003 - val_loss: 2.3029 - val_accuracy: 0.1014\n",
            "Epoch 2/10\n",
            "4000/4000 [==============================] - 123s 31ms/step - loss: 2.3029 - accuracy: 0.0975 - val_loss: 2.3030 - val_accuracy: 0.0997\n",
            "Epoch 3/10\n",
            "4000/4000 [==============================] - 123s 31ms/step - loss: 2.3029 - accuracy: 0.0981 - val_loss: 2.3027 - val_accuracy: 0.1014\n",
            "Epoch 4/10\n",
            "4000/4000 [==============================] - 121s 30ms/step - loss: 2.3029 - accuracy: 0.0981 - val_loss: 2.3028 - val_accuracy: 0.1014\n",
            "Epoch 5/10\n",
            "4000/4000 [==============================] - 123s 31ms/step - loss: 2.3029 - accuracy: 0.0989 - val_loss: 2.3027 - val_accuracy: 0.1016\n",
            "Epoch 6/10\n",
            "4000/4000 [==============================] - 124s 31ms/step - loss: 2.3029 - accuracy: 0.0968 - val_loss: 2.3028 - val_accuracy: 0.1003\n",
            "Epoch 7/10\n",
            "4000/4000 [==============================] - 123s 31ms/step - loss: 2.3029 - accuracy: 0.0980 - val_loss: 2.3028 - val_accuracy: 0.0952\n",
            "Epoch 8/10\n",
            "4000/4000 [==============================] - 130s 33ms/step - loss: 2.3029 - accuracy: 0.0984 - val_loss: 2.3030 - val_accuracy: 0.0977\n",
            "Epoch 9/10\n",
            "4000/4000 [==============================] - 134s 33ms/step - loss: 2.3029 - accuracy: 0.0988 - val_loss: 2.3027 - val_accuracy: 0.1014\n",
            "Epoch 10/10\n",
            "4000/4000 [==============================] - 133s 33ms/step - loss: 2.3029 - accuracy: 0.0979 - val_loss: 2.3028 - val_accuracy: 0.0997\n"
          ]
        }
      ]
    },
    {
      "cell_type": "code",
      "metadata": {
        "colab": {
          "base_uri": "https://localhost:8080/"
        },
        "id": "PkTOxBcp-F2O",
        "outputId": "7c0d0645-a026-4dfc-9df2-5434fa6180af"
      },
      "source": [
        "#evaluate model using data set \n",
        "model.evaluate(x_test, y_test_one_hot)[1]"
      ],
      "execution_count": null,
      "outputs": [
        {
          "output_type": "stream",
          "name": "stdout",
          "text": [
            "313/313 [==============================] - 4s 14ms/step - loss: nan - accuracy: 0.1000\n"
          ]
        },
        {
          "output_type": "execute_result",
          "data": {
            "text/plain": [
              "0.10000000149011612"
            ]
          },
          "metadata": {},
          "execution_count": 80
        }
      ]
    },
    {
      "cell_type": "code",
      "metadata": {
        "colab": {
          "base_uri": "https://localhost:8080/",
          "height": 342
        },
        "id": "eX8C-PpS-XB_",
        "outputId": "4ef8bb99-e76a-46b7-954b-8d33776e8a39"
      },
      "source": [
        "#Visualise model accurracy\n",
        "plt.plot(hist.history['accuracy'])\n",
        "plt.plot(hist.history['val_accuracy'])\n",
        "plt.title('Model Accuracy')\n",
        "plt.ylabel('Accuracy')\n",
        "plt.xlabel('Epoch')\n",
        "plt.legend(['Train','Val'], loc= 'upper right')\n",
        "plt.show"
      ],
      "execution_count": null,
      "outputs": [
        {
          "output_type": "execute_result",
          "data": {
            "text/plain": [
              "<function matplotlib.pyplot.show>"
            ]
          },
          "metadata": {},
          "execution_count": 105
        },
        {
          "output_type": "display_data",
          "data": {
            "image/png": "[encoded data removed]",
            "text/plain": [
              "<Figure size 432x288 with 1 Axes>"
            ]
          },
          "metadata": {}
        }
      ]
    },
    {
      "cell_type": "code",
      "metadata": {
        "colab": {
          "resources": {
            "http://localhost:8080/nbextensions/google.colab/files.js": {
              "data": "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",
              "ok": true,
              "headers": [
                [
                  "content-type",
                  "application/javascript"
                ]
              ],
              "status": 200,
              "status_text": ""
            }
          },
          "base_uri": "https://localhost:8080/",
          "height": 74
        },
        "id": "eqKYVa_BCGWv",
        "outputId": "95537c00-9ed5-4ff3-8c45-a50c5735bafd"
      },
      "source": [
        "#test\n",
        "from google.colab import files\n",
        "uploaded = files.upload()\n"
      ],
      "execution_count": null,
      "outputs": [
        {
          "output_type": "display_data",
          "data": {
            "text/html": [
              "\n",
              "     <input type=\"file\" id=\"files-661da22e-74e2-49f3-9d3d-31271f5c617b\" name=\"files[]\" multiple disabled\n",
              "        style=\"border:none\" />\n",
              "     <output id=\"result-661da22e-74e2-49f3-9d3d-31271f5c617b\">\n",
              "      Upload widget is only available when the cell has been executed in the\n",
              "      current browser session. Please rerun this cell to enable.\n",
              "      </output>\n",
              "      <script src=\"/nbextensions/google.colab/files.js\"></script> "
            ],
            "text/plain": [
              "<IPython.core.display.HTML object>"
            ]
          },
          "metadata": {}
        },
        {
          "output_type": "stream",
          "name": "stdout",
          "text": [
            "Saving 71+mDoHG4mL.png to 71+mDoHG4mL.png\n"
          ]
        }
      ]
    },
    {
      "cell_type": "code",
      "metadata": {
        "colab": {
          "base_uri": "https://localhost:8080/",
          "height": 287
        },
        "id": "iPIr_egnCmHm",
        "outputId": "6da9c0fb-654c-446e-a4a0-7640938baf54"
      },
      "source": [
        "new_image = plt.imread('71+mDoHG4mL.png')\n",
        "img = plt.imshow(new_image)\n"
      ],
      "execution_count": null,
      "outputs": [
        {
          "output_type": "display_data",
          "data": {
            "image/png": "[encoded data removed]",
            "text/plain": [
              "<Figure size 432x288 with 1 Axes>"
            ]
          },
          "metadata": {}
        }
      ]
    },
    {
      "cell_type": "code",
      "metadata": {
        "colab": {
          "base_uri": "https://localhost:8080/",
          "height": 284
        },
        "id": "9_DLiczuC56k",
        "outputId": "006ce545-d00c-4637-d237-ea12508f1b4a"
      },
      "source": [
        "#resize\n",
        "from skimage.transform import resize\n",
        "resized_image = resize(new_image, (32,32,3))\n",
        "img = plt.imshow(resized_image)"
      ],
      "execution_count": null,
      "outputs": [
        {
          "output_type": "display_data",
          "data": {
            "image/png": "[encoded data removed]",
            "text/plain": [
              "<Figure size 432x288 with 1 Axes>"
            ]
          },
          "metadata": {}
        }
      ]
    },
    {
      "cell_type": "code",
      "metadata": {
        "colab": {
          "base_uri": "https://localhost:8080/"
        },
        "id": "2xP5JrZFDVj7",
        "outputId": "a7701d5c-871b-42af-9329-f807448663f4"
      },
      "source": [
        "# Get the models predictions\n",
        "predictions = model.predict(np.array([resized_image]))\n",
        "print(predictions)"
      ],
      "execution_count": null,
      "outputs": [
        {
          "output_type": "stream",
          "name": "stdout",
          "text": [
            "[[0.09578852 0.09816455 0.10499176 0.09469617 0.10502097 0.10704447\n",
            "  0.10194652 0.10268206 0.09297056 0.09669437]]\n"
          ]
        }
      ]
    },
    {
      "cell_type": "code",
      "metadata": {
        "colab": {
          "base_uri": "https://localhost:8080/"
        },
        "id": "tUrAC-JZMfpg",
        "outputId": "2a01602a-cb5d-4052-e330-363caa4d545d"
      },
      "source": [
        "#sort\n",
        "list_index = [0,1,2,3,4,5,6,7,8,9]\n",
        "x= predictions\n",
        "for i in range(10):\n",
        "  for j in range (10):\n",
        "    if x[0][list_index[i]] > x[0][list_index[j]]:\n",
        "      temp = list_index[i]\n",
        "      list_index[i] =list_index[i]\n",
        "      list_index[j] = temp\n",
        "\n",
        "# show \n",
        "print(list_index)"
      ],
      "execution_count": null,
      "outputs": [
        {
          "output_type": "stream",
          "name": "stdout",
          "text": [
            "[5, 5, 5, 5, 5, 5, 5, 5, 5, 5]\n"
          ]
        }
      ]
    },
    {
      "cell_type": "code",
      "metadata": {
        "colab": {
          "base_uri": "https://localhost:8080/"
        },
        "id": "sa37L1UoOZsG",
        "outputId": "2237b5e8-8bd9-48c9-f28e-7d00ffa8978a"
      },
      "source": [
        "# print first 5!! really? have tooo ...\n",
        "for i in range(5):\n",
        "  print(classification[list_index[i]])"
      ],
      "execution_count": null,
      "outputs": [
        {
          "output_type": "stream",
          "name": "stdout",
          "text": [
            "dog\n",
            "dog\n",
            "dog\n",
            "dog\n",
            "dog\n"
          ]
        }
      ]
    }
  ]
}